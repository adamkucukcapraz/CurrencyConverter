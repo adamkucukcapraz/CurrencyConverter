{
 "cells": [
  {
   "cell_type": "code",
   "execution_count": 2,
   "id": "ba5eb645-f50d-4534-a858-fe2d236ed20d",
   "metadata": {},
   "outputs": [
    {
     "name": "stdout",
     "output_type": "stream",
     "text": [
      "Collecting currency_converter\n",
      "  Downloading currency.converter-0.5.5.tar.gz (53 kB)\n",
      "     ---------------------------------------- 53.6/53.6 kB 2.7 MB/s eta 0:00:00\n",
      "  Preparing metadata (setup.py): started\n",
      "  Preparing metadata (setup.py): finished with status 'done'\n",
      "Requirement already satisfied: setuptools in c:\\users\\owner\\anaconda3\\lib\\site-packages (from currency_converter) (63.4.1)\n",
      "Building wheels for collected packages: currency_converter\n",
      "  Building wheel for currency_converter (setup.py): started\n",
      "  Building wheel for currency_converter (setup.py): finished with status 'done'\n",
      "  Created wheel for currency_converter: filename=currency.converter-0.5.5-py3-none-any.whl size=65924 sha256=7c9d72e21e348afea10bf81bd45d28c9b7062307d457503a61e095aab024cf90\n",
      "  Stored in directory: c:\\users\\owner\\appdata\\local\\pip\\cache\\wheels\\32\\17\\bd\\35d81cc2e6834b1e0f7fa273e667b71933a92b2360e76ac30d\n",
      "Successfully built currency_converter\n",
      "Installing collected packages: currency_converter\n",
      "Successfully installed currency_converter-0.5.5\n",
      "Note: you may need to restart the kernel to use updated packages.\n"
     ]
    }
   ],
   "source": [
    "pip install currency_converter"
   ]
  },
  {
   "cell_type": "code",
   "execution_count": 4,
   "id": "14e01e9d-9438-4636-843f-bae6f2801799",
   "metadata": {},
   "outputs": [
    {
     "name": "stdout",
     "output_type": "stream",
     "text": [
      "Collecting CurrencyConverter\n",
      "  Using cached CurrencyConverter-0.17.19-py3-none-any.whl (590 kB)\n",
      "Installing collected packages: CurrencyConverter\n",
      "Successfully installed CurrencyConverter-0.17.19\n",
      "Note: you may need to restart the kernel to use updated packages.\n"
     ]
    }
   ],
   "source": [
    "pip install CurrencyConverter"
   ]
  },
  {
   "cell_type": "code",
   "execution_count": 1,
   "id": "5e2265f9-8317-459b-b201-bd7a6dccb751",
   "metadata": {},
   "outputs": [],
   "source": [
    "import tkinter as tk"
   ]
  },
  {
   "cell_type": "markdown",
   "id": "785f7d80-16b2-41c2-9ee5-eb00ff5b7107",
   "metadata": {},
   "source": [
    "# Importing CurrencyConverter class from currency_converter module"
   ]
  },
  {
   "cell_type": "code",
   "execution_count": 2,
   "id": "c479c35d-887c-4f17-a646-53af2677a18f",
   "metadata": {},
   "outputs": [],
   "source": [
    "from currency_converter import CurrencyConverter"
   ]
  },
  {
   "cell_type": "markdown",
   "id": "ee61805e-1ff5-4233-81ed-e3380f261f7a",
   "metadata": {},
   "source": [
    "# Creating an instance of CurrencyConverter"
   ]
  },
  {
   "cell_type": "code",
   "execution_count": 3,
   "id": "08b8849a-8313-4496-bd47-ee8737c28404",
   "metadata": {},
   "outputs": [],
   "source": [
    "c = CurrencyConverter()"
   ]
  },
  {
   "cell_type": "markdown",
   "id": "27dafd9f-86ae-4ef4-af22-849a725a17e0",
   "metadata": {},
   "source": [
    "# Creating the main application window"
   ]
  },
  {
   "cell_type": "code",
   "execution_count": 4,
   "id": "b218ca73-3383-42c8-8790-e10fa70cc065",
   "metadata": {},
   "outputs": [],
   "source": [
    "import tkinter as tk\n",
    "from currency_converter import CurrencyConverter\n",
    "\n",
    "window = tk.Tk()\n",
    "window.geometry(\"500x360\")\n",
    "window.title(\"Currency Converter\")\n",
    "\n",
    "# Function to be executed when the 'convert' button is clicked\n",
    "def clicked():\n",
    "    # Getting the amount entered by the user from the first entry widget and converting it to an integer\n",
    "    amount = int(entry1.get())\n",
    "    \n",
    "    # Getting the currency codes entered by the user from the second and third entry widgets\n",
    "    cur1 = entry2.get().upper()  # Convert to uppercase\n",
    "    cur2 = entry3.get().upper()  # Convert to uppercase\n",
    "    \n",
    "    # Calling the convert method of CurrencyConverter instance to perform currency conversion\n",
    "    data = c.convert(amount, cur1, cur2)\n",
    "    \n",
    "    # Rounding the converted amount to 2 decimal places\n",
    "    data2 = round(data, 2)\n",
    "    \n",
    "    # Creating a label to display the converted amount on the window\n",
    "    label_text = f\"{amount} {cur1} is {data2} {cur2}\"\n",
    "    label4 = tk.Label(window, text=label_text, font=\"Times 20 bold\")\n",
    "    label4.place(x=100, y=300)\n",
    "\n",
    "# Creating labels and entry widgets for user input\n",
    "label = tk.Label(window, text=\"Currency Converter\", font=\"Times 20 bold\").place(x=100, y=40)\n",
    "\n",
    "label1 = tk.Label(window, text=\"Enter amount here: \", font=\"Times 16 bold\").place(x=70, y=100)\n",
    "entry1 = tk.Entry(window)\n",
    "\n",
    "label2 = tk.Label(window, text=\"From Currency : \", font=\"Times 16 bold\").place(x=70, y=150)\n",
    "entry2 = tk.Entry(window)\n",
    "\n",
    "label3 = tk.Label(window, text=\"To Currency : \", font=\"Times 16 bold\").place(x=70, y=200)\n",
    "entry3 = tk.Entry(window)\n",
    "\n",
    "# Creating a button for triggering the conversion process\n",
    "button = tk.Button(window, text=\"Convert\", font=\"Times 16 bold\", command=clicked).place(x=220, y=250)\n",
    "\n",
    "# Placing the entry widgets on the window\n",
    "entry1.place(x=300, y=105)\n",
    "entry2.place(x=300, y=155)\n",
    "entry3.place(x=300, y=205)\n",
    "\n",
    "# Create an instance of CurrencyConverter\n",
    "c = CurrencyConverter()\n",
    "\n",
    "# Running the main event loop\n",
    "window.mainloop()\n"
   ]
  },
  {
   "cell_type": "code",
   "execution_count": null,
   "id": "bba7782e-3d14-4a7e-a0f0-4ddb6c48a7ec",
   "metadata": {},
   "outputs": [],
   "source": []
  }
 ],
 "metadata": {
  "kernelspec": {
   "display_name": "Python 3 (ipykernel)",
   "language": "python",
   "name": "python3"
  },
  "language_info": {
   "codemirror_mode": {
    "name": "ipython",
    "version": 3
   },
   "file_extension": ".py",
   "mimetype": "text/x-python",
   "name": "python",
   "nbconvert_exporter": "python",
   "pygments_lexer": "ipython3",
   "version": "3.9.13"
  }
 },
 "nbformat": 4,
 "nbformat_minor": 5
}
